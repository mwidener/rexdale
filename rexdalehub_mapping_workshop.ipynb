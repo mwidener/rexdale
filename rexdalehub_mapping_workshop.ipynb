{
  "nbformat": 4,
  "nbformat_minor": 0,
  "metadata": {
    "colab": {
      "provenance": []
    },
    "kernelspec": {
      "name": "python3",
      "display_name": "Python 3"
    },
    "language_info": {
      "name": "python"
    }
  },
  "cells": [
    {
      "cell_type": "markdown",
      "source": [
        "# Mapping health data in python\n",
        "\n",
        "In this event we're going to learn how to use a library called geopandas to map health data in Toronto. Geopandas is a powerful tool that allows you to work with spatial information to uncover patterns and develop insights that wouldn't be possible without maps! \n",
        "\n"
      ],
      "metadata": {
        "id": "soFp7p9S3aJ3"
      }
    },
    {
      "cell_type": "code",
      "execution_count": null,
      "metadata": {
        "id": "Xv4BzJh-XJu4"
      },
      "outputs": [],
      "source": [
        "# install a few libraries we'll need!\n",
        "!pip install --upgrade geopandas\n",
        "!pip install mapclassify"
      ]
    },
    {
      "cell_type": "markdown",
      "source": [
        "### Import libraries that we will use to display maps!\n",
        "\n",
        "We'll be using `pandas` and `geopandas` today.  These are libraries that allow us to do data science and to do mapping."
      ],
      "metadata": {
        "id": "1kMdLPYMItpm"
      }
    },
    {
      "cell_type": "code",
      "source": [
        "import geopandas as gpd\n",
        "import pandas as pd\n",
        "import mapclassify\n",
        "import matplotlib.pyplot as plt"
      ],
      "metadata": {
        "id": "iX4Y5nAPXLxN"
      },
      "execution_count": null,
      "outputs": []
    },
    {
      "cell_type": "markdown",
      "source": [
        "### Let's get some data!\n",
        "\n",
        "The data we are going to use come from the Ontario Community Health Profiles project. Let's check it out!\n",
        "\n",
        "https://www.ontariohealthprofiles.ca/index.php \n",
        "\n",
        "We also want to get a \n",
        "\n",
        "https://github.com/mwidener/rexdale "
      ],
      "metadata": {
        "id": "Qp9t18FCnnY0"
      }
    },
    {
      "cell_type": "markdown",
      "source": [
        "### Load a 'geojson' file into a variable we call \"nbrhd\"\n",
        "\n",
        "Once the variable is set, we can then use a function called `.head()` to look at the first few rows."
      ],
      "metadata": {
        "id": "UL19lvIpIsm0"
      }
    },
    {
      "cell_type": "code",
      "source": [
        "nbrhd = gpd.read_file(\"Toronto_Neighbourhoods.geojson\")  #load spatial file into a variable called nbrhd\n",
        "nbrhd.head() #peak at the top 5 rows in the data we loaded."
      ],
      "metadata": {
        "id": "nuh1-EHSYcoJ"
      },
      "execution_count": null,
      "outputs": []
    },
    {
      "cell_type": "code",
      "source": [
        "#get geodataframe ready - don't worry too much about this!\n",
        "\n",
        "important_spat_cols = nbrhd.columns[[4, 5, 17]] #say what columns we like - we want to keep the 5th, 6th, and 18th columns\n",
        "nbrhd_simple = nbrhd.copy() #make sure we don't overwrite the original data!\n",
        "nbrhd_simple = nbrhd_simple[important_spat_cols] #get rid of the extra columns\n",
        "nbrhd_simple['NeighbID'] = nbrhd['AREA_SHORT_CODE'].astype(int) #convert text numbers to real numbers for later\n",
        "nbrhd_simple.head()"
      ],
      "metadata": {
        "id": "QF-BZtkXs0jA"
      },
      "execution_count": null,
      "outputs": []
    },
    {
      "cell_type": "code",
      "source": [
        "nbrhd.plot()"
      ],
      "metadata": {
        "id": "rFjuzY6AYdx-"
      },
      "execution_count": null,
      "outputs": []
    },
    {
      "cell_type": "markdown",
      "source": [
        "### This is great! But it's just a map of Toronto. \n",
        "\n",
        "Booooooring. \n",
        "\n",
        "We want to bring the health data into this map. How do we do that? \n",
        "\n",
        "Well we need to load the file with the health data into python first. "
      ],
      "metadata": {
        "id": "qBO4hHMvqucq"
      }
    },
    {
      "cell_type": "code",
      "source": [
        "toronto_data = pd.read_csv('toronto_health_data_2017.csv')\n",
        "toronto_data.head()"
      ],
      "metadata": {
        "id": "6aFy88xtqtZv"
      },
      "execution_count": null,
      "outputs": []
    },
    {
      "cell_type": "markdown",
      "source": [
        "### OK let's bring the data file together with the spatial file"
      ],
      "metadata": {
        "id": "NfG57IB5uJ1m"
      }
    },
    {
      "cell_type": "code",
      "source": [
        "nbrhd_simple = nbrhd_simple.merge(toronto_data, on=\"NeighbID\")\n",
        "nbrhd_simple.head()"
      ],
      "metadata": {
        "id": "E9b1CwLwr0Hb"
      },
      "execution_count": null,
      "outputs": []
    },
    {
      "cell_type": "markdown",
      "source": [
        "Great - everything is together now. Can we map something interesting now? What about asthma?\n",
        "\n",
        "To do this we can add an argument to the `plot()` function.\n",
        "\n",
        "We say plot ... AND ... color the neighborhoods with the values stored in the `prev_asthma_0up` column."
      ],
      "metadata": {
        "id": "pJrUYZS3uOdF"
      }
    },
    {
      "cell_type": "code",
      "source": [
        "nbrhd_simple.plot(column='prev_asthma_0up')"
      ],
      "metadata": {
        "id": "m58Ae5QLtY4g"
      },
      "execution_count": null,
      "outputs": []
    },
    {
      "cell_type": "markdown",
      "source": [
        "Pretty!\n",
        "\n",
        "But ... what does it mean? What's missing? What don't we know? \n",
        "\n",
        "We should add some more info... and we can customize things. \n",
        "\n",
        "For one - we can change the color scheme by using a `cmap` argument. https://matplotlib.org/stable/tutorials/colors/colormaps.html "
      ],
      "metadata": {
        "id": "P3X8yXD7uZ2P"
      }
    },
    {
      "cell_type": "code",
      "source": [
        "nbrhd_simple.plot(column='prev_asthma_0up', cmap = 'Oranges')"
      ],
      "metadata": {
        "id": "YtbATWvFt9Ms"
      },
      "execution_count": null,
      "outputs": []
    },
    {
      "cell_type": "markdown",
      "source": [
        "What about a map legend? \n",
        "\n",
        "Map legends tell us what we're looking at on a map. For example, what does a light color mean vs. a dark color? "
      ],
      "metadata": {
        "id": "V-TzzvrEvTMc"
      }
    },
    {
      "cell_type": "code",
      "source": [
        "nbrhd_simple.plot(column='prev_asthma_0up', cmap = 'Oranges', legend = True)"
      ],
      "metadata": {
        "id": "8grGbteivQgn"
      },
      "execution_count": null,
      "outputs": []
    },
    {
      "cell_type": "markdown",
      "source": [
        "We can go event fancier. What if we divide the prevelance of asthma data into four categories - also known as 'quartiles'? \n",
        "\n",
        "Geopandas let's you do lots of map classification. 'quantiles' is just one of a few options. \n",
        "\n",
        "To do this we need to add even more arguments to the `plot.()` function. In this case, we add `classification = 'quantiles'` and `k=4` to say we want quartiles."
      ],
      "metadata": {
        "id": "5PWGtYHCwxEK"
      }
    },
    {
      "cell_type": "code",
      "source": [
        "nbrhd_simple.plot(column='prev_asthma_0up', scheme='quantiles', \n",
        "                  k=4, cmap='Oranges',  legend=True)"
      ],
      "metadata": {
        "id": "36wHKxkDvc6N"
      },
      "execution_count": null,
      "outputs": []
    },
    {
      "cell_type": "markdown",
      "source": [
        "Where am I getting all this info? You can find information about how a function like `plot()` works in something called an API. It takes a long time to learn all this stuff, but once you get going it only gets easier!\n",
        "\n",
        "https://geopandas.org/en/stable/docs/reference/api/geopandas.GeoDataFrame.plot.html\n"
      ],
      "metadata": {
        "id": "hE0RaBqvxbwl"
      }
    },
    {
      "cell_type": "code",
      "source": [
        "fig, axes = plt.subplots(1,1) #tell python we want to have more control over our figure\n",
        "nbrhd_simple.plot(column='prev_asthma_0up', scheme='quantiles', \n",
        "                  k=4, cmap='Oranges', edgecolor='grey', ax=axes, legend=True,\n",
        "                  legend_kwds={'loc': 4, 'title': 'Percent Asthmatic',\n",
        "                               'title_fontsize': 10,'fontsize': 8})"
      ],
      "metadata": {
        "id": "l0vwS0koxMNH"
      },
      "execution_count": null,
      "outputs": []
    },
    {
      "cell_type": "markdown",
      "source": [
        "Let's try copying and pasting the code in the last cell and changing the column to the mental health prevelance column."
      ],
      "metadata": {
        "id": "9ftxy_yVyOTy"
      }
    },
    {
      "cell_type": "code",
      "source": [
        "fig, axes = plt.subplots(1,1) #tell python we want to have more control over our figure\n",
        "nbrhd_simple.plot(column='prev_mh_20up', scheme='quantiles', \n",
        "                  k=4, cmap='Oranges', edgecolor='grey', ax = axes, legend=True,\n",
        "                  legend_kwds={'loc': 4, 'title': 'Prevelance Mental Health Visits',\n",
        "                               'title_fontsize': 20,'fontsize': 13})\n",
        "#we can make the map bigger!\n",
        "current_fig = plt.gcf()\n",
        "current_fig.set_size_inches(15,15)"
      ],
      "metadata": {
        "id": "137Vk01oxnf3"
      },
      "execution_count": null,
      "outputs": []
    },
    {
      "cell_type": "markdown",
      "source": [
        "We can also add multiple layers to a map! Let's add a file from Open Data Toronto to this map showing the locations of youth mental health services. https://open.toronto.ca/dataset/wellbeing-youth-health-services/ "
      ],
      "metadata": {
        "id": "KlR_kGGazgAb"
      }
    },
    {
      "cell_type": "code",
      "source": [
        "fig, axes = plt.subplots(1,1) #tell python we want to have more control over our figure\n",
        "mh_services = gpd.read_file(\"Health Services.geojson\")\n",
        "mh_services.plot(ax=axes)"
      ],
      "metadata": {
        "id": "4IcnnuBWyWE8"
      },
      "execution_count": null,
      "outputs": []
    },
    {
      "cell_type": "markdown",
      "source": [
        "How do we combine these maps? Well we tell python to first plot the neighborhood map and THEN we tell it to plot the map of health services points all on the SAME axes."
      ],
      "metadata": {
        "id": "QJOfe2bQz98d"
      }
    },
    {
      "cell_type": "code",
      "source": [
        "fig, axes = plt.subplots(1,1) #tell python we want to have more control over our figure\n",
        "\n",
        "nbrhd_simple.plot(column='prev_mh_20up', scheme='quantiles', \n",
        "                  k=4, cmap='Oranges', edgecolor='grey', ax=axes, legend=True,\n",
        "                  legend_kwds={'loc': 4, 'title': 'Prevelance Mental Health Visits',\n",
        "                               'title_fontsize': 20,'fontsize': 13})\n",
        "mh_services.plot(markersize=20, color='blue', ax = axes)\n",
        "\n",
        "#we can make the map bigger!\n",
        "current_fig = plt.gcf()\n",
        "current_fig.set_size_inches(15,15)"
      ],
      "metadata": {
        "id": "df0Qspoazxz3"
      },
      "execution_count": null,
      "outputs": []
    },
    {
      "cell_type": "markdown",
      "source": [
        "Now you try! Can you make a map of diabetes in 20+ year olds in Toronto? Can you classify your neighbourhoods using 'quantiles' in 5 categories instead of 4? Give it a try!\n",
        "\n",
        "Can you find another layer from Open Data Toronto to add to your map? Maybe something about bicycling? "
      ],
      "metadata": {
        "id": "wxeUIQ4F1Y_0"
      }
    },
    {
      "cell_type": "code",
      "source": [],
      "metadata": {
        "id": "u4RmpJ3l0PKI"
      },
      "execution_count": null,
      "outputs": []
    },
    {
      "cell_type": "code",
      "source": [],
      "metadata": {
        "id": "ZQjzxB8h1mix"
      },
      "execution_count": null,
      "outputs": []
    }
  ]
}